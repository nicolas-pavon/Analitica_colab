{
  "nbformat": 4,
  "nbformat_minor": 0,
  "metadata": {
    "kernelspec": {
      "display_name": "Python 3",
      "language": "python",
      "name": "python3"
    },
    "language_info": {
      "codemirror_mode": {
        "name": "ipython",
        "version": 3
      },
      "file_extension": ".py",
      "mimetype": "text/x-python",
      "name": "python",
      "nbconvert_exporter": "python",
      "pygments_lexer": "ipython3",
      "version": "3.7.4"
    },
    "colab": {
      "name": "Housing_Deep_Learning.ipynb",
      "provenance": [],
      "collapsed_sections": [],
      "include_colab_link": true
    }
  },
  "cells": [
    {
      "cell_type": "markdown",
      "metadata": {
        "id": "view-in-github",
        "colab_type": "text"
      },
      "source": [
        "<a href=\"https://colab.research.google.com/github/nicolas-pavon/Analitica_colab/blob/master/Entrega%203/Housing_Deep_Learning.ipynb\" target=\"_parent\"><img src=\"https://colab.research.google.com/assets/colab-badge.svg\" alt=\"Open In Colab\"/></a>"
      ]
    },
    {
      "cell_type": "code",
      "metadata": {
        "id": "hieHZohRQ8Mw",
        "colab_type": "code",
        "colab": {}
      },
      "source": [
        "!pip install tensorflow==2.1.0\n",
        "!pip install keras"
      ],
      "execution_count": 0,
      "outputs": []
    },
    {
      "cell_type": "code",
      "metadata": {
        "id": "ku9vd7ZJQ2Le",
        "colab_type": "code",
        "colab": {}
      },
      "source": [
        "import pandas as pd\n",
        "import numpy as np\n",
        "import matplotlib.pyplot as plt\n",
        "import warnings\n",
        "warnings.filterwarnings(\"ignore\")\n",
        "#para acceder a archivos desde google drive en google colaboratory\n",
        "#acceso a google drive\n",
        "from pydrive.auth import GoogleAuth\n",
        "from pydrive.drive import GoogleDrive\n",
        "from google.colab import auth\n",
        "from oauth2client.client import GoogleCredentials\n",
        "#\n",
        "auth.authenticate_user()\n",
        "gauth = GoogleAuth()\n",
        "gauth.credentials = GoogleCredentials.get_application_default()\n",
        "drive = GoogleDrive(gauth)\n",
        "#\n",
        "file_id = '1pe9H6JpbYgQaXKpOP0lNjoNS2cwmUjNA' #copiar nombre nombre del link de compartir despues de ID\n",
        "downloaded = drive.CreateFile({'id': file_id})\n",
        "downloaded.GetContentFile('housing.csv')\n",
        "\n",
        "file_id_2 = '1WsYjme-Pilp2gfwUDINPUXm6mSw2dDwY' #copiar nombre nombre del link de compartir despues de ID\n",
        "downloaded = drive.CreateFile({'id': file_id_2})\n",
        "downloaded.GetContentFile('funciones_housing.py')\n",
        "\n",
        "#base de datos\n",
        "Xdata = pd.read_csv(\"housing.csv\")"
      ],
      "execution_count": 0,
      "outputs": []
    },
    {
      "cell_type": "code",
      "metadata": {
        "id": "EWDUQm3qNUz5",
        "colab_type": "code",
        "outputId": "ed126fb5-6b66-416f-ca2d-b60cf08b433c",
        "colab": {
          "base_uri": "https://localhost:8080/",
          "height": 422
        }
      },
      "source": [
        "Xdata"
      ],
      "execution_count": 0,
      "outputs": [
        {
          "output_type": "execute_result",
          "data": {
            "text/html": [
              "<div>\n",
              "<style scoped>\n",
              "    .dataframe tbody tr th:only-of-type {\n",
              "        vertical-align: middle;\n",
              "    }\n",
              "\n",
              "    .dataframe tbody tr th {\n",
              "        vertical-align: top;\n",
              "    }\n",
              "\n",
              "    .dataframe thead th {\n",
              "        text-align: right;\n",
              "    }\n",
              "</style>\n",
              "<table border=\"1\" class=\"dataframe\">\n",
              "  <thead>\n",
              "    <tr style=\"text-align: right;\">\n",
              "      <th></th>\n",
              "      <th>longitude</th>\n",
              "      <th>latitude</th>\n",
              "      <th>housing_median_age</th>\n",
              "      <th>total_rooms</th>\n",
              "      <th>total_bedrooms</th>\n",
              "      <th>population</th>\n",
              "      <th>households</th>\n",
              "      <th>median_income</th>\n",
              "      <th>median_house_value</th>\n",
              "      <th>ocean_proximity</th>\n",
              "    </tr>\n",
              "  </thead>\n",
              "  <tbody>\n",
              "    <tr>\n",
              "      <th>0</th>\n",
              "      <td>-122.23</td>\n",
              "      <td>37.88</td>\n",
              "      <td>41.0</td>\n",
              "      <td>880.0</td>\n",
              "      <td>129.0</td>\n",
              "      <td>322.0</td>\n",
              "      <td>126.0</td>\n",
              "      <td>8.3252</td>\n",
              "      <td>452600.0</td>\n",
              "      <td>NEAR BAY</td>\n",
              "    </tr>\n",
              "    <tr>\n",
              "      <th>1</th>\n",
              "      <td>-122.22</td>\n",
              "      <td>37.86</td>\n",
              "      <td>21.0</td>\n",
              "      <td>7099.0</td>\n",
              "      <td>1106.0</td>\n",
              "      <td>2401.0</td>\n",
              "      <td>1138.0</td>\n",
              "      <td>8.3014</td>\n",
              "      <td>358500.0</td>\n",
              "      <td>NEAR BAY</td>\n",
              "    </tr>\n",
              "    <tr>\n",
              "      <th>2</th>\n",
              "      <td>-122.24</td>\n",
              "      <td>37.85</td>\n",
              "      <td>52.0</td>\n",
              "      <td>1467.0</td>\n",
              "      <td>190.0</td>\n",
              "      <td>496.0</td>\n",
              "      <td>177.0</td>\n",
              "      <td>7.2574</td>\n",
              "      <td>352100.0</td>\n",
              "      <td>NEAR BAY</td>\n",
              "    </tr>\n",
              "    <tr>\n",
              "      <th>3</th>\n",
              "      <td>-122.25</td>\n",
              "      <td>37.85</td>\n",
              "      <td>52.0</td>\n",
              "      <td>1274.0</td>\n",
              "      <td>235.0</td>\n",
              "      <td>558.0</td>\n",
              "      <td>219.0</td>\n",
              "      <td>5.6431</td>\n",
              "      <td>341300.0</td>\n",
              "      <td>NEAR BAY</td>\n",
              "    </tr>\n",
              "    <tr>\n",
              "      <th>4</th>\n",
              "      <td>-122.25</td>\n",
              "      <td>37.85</td>\n",
              "      <td>52.0</td>\n",
              "      <td>1627.0</td>\n",
              "      <td>280.0</td>\n",
              "      <td>565.0</td>\n",
              "      <td>259.0</td>\n",
              "      <td>3.8462</td>\n",
              "      <td>342200.0</td>\n",
              "      <td>NEAR BAY</td>\n",
              "    </tr>\n",
              "    <tr>\n",
              "      <th>...</th>\n",
              "      <td>...</td>\n",
              "      <td>...</td>\n",
              "      <td>...</td>\n",
              "      <td>...</td>\n",
              "      <td>...</td>\n",
              "      <td>...</td>\n",
              "      <td>...</td>\n",
              "      <td>...</td>\n",
              "      <td>...</td>\n",
              "      <td>...</td>\n",
              "    </tr>\n",
              "    <tr>\n",
              "      <th>20635</th>\n",
              "      <td>-121.09</td>\n",
              "      <td>39.48</td>\n",
              "      <td>25.0</td>\n",
              "      <td>1665.0</td>\n",
              "      <td>374.0</td>\n",
              "      <td>845.0</td>\n",
              "      <td>330.0</td>\n",
              "      <td>1.5603</td>\n",
              "      <td>78100.0</td>\n",
              "      <td>INLAND</td>\n",
              "    </tr>\n",
              "    <tr>\n",
              "      <th>20636</th>\n",
              "      <td>-121.21</td>\n",
              "      <td>39.49</td>\n",
              "      <td>18.0</td>\n",
              "      <td>697.0</td>\n",
              "      <td>150.0</td>\n",
              "      <td>356.0</td>\n",
              "      <td>114.0</td>\n",
              "      <td>2.5568</td>\n",
              "      <td>77100.0</td>\n",
              "      <td>INLAND</td>\n",
              "    </tr>\n",
              "    <tr>\n",
              "      <th>20637</th>\n",
              "      <td>-121.22</td>\n",
              "      <td>39.43</td>\n",
              "      <td>17.0</td>\n",
              "      <td>2254.0</td>\n",
              "      <td>485.0</td>\n",
              "      <td>1007.0</td>\n",
              "      <td>433.0</td>\n",
              "      <td>1.7000</td>\n",
              "      <td>92300.0</td>\n",
              "      <td>INLAND</td>\n",
              "    </tr>\n",
              "    <tr>\n",
              "      <th>20638</th>\n",
              "      <td>-121.32</td>\n",
              "      <td>39.43</td>\n",
              "      <td>18.0</td>\n",
              "      <td>1860.0</td>\n",
              "      <td>409.0</td>\n",
              "      <td>741.0</td>\n",
              "      <td>349.0</td>\n",
              "      <td>1.8672</td>\n",
              "      <td>84700.0</td>\n",
              "      <td>INLAND</td>\n",
              "    </tr>\n",
              "    <tr>\n",
              "      <th>20639</th>\n",
              "      <td>-121.24</td>\n",
              "      <td>39.37</td>\n",
              "      <td>16.0</td>\n",
              "      <td>2785.0</td>\n",
              "      <td>616.0</td>\n",
              "      <td>1387.0</td>\n",
              "      <td>530.0</td>\n",
              "      <td>2.3886</td>\n",
              "      <td>89400.0</td>\n",
              "      <td>INLAND</td>\n",
              "    </tr>\n",
              "  </tbody>\n",
              "</table>\n",
              "<p>20640 rows × 10 columns</p>\n",
              "</div>"
            ],
            "text/plain": [
              "       longitude  latitude  ...  median_house_value  ocean_proximity\n",
              "0        -122.23     37.88  ...            452600.0         NEAR BAY\n",
              "1        -122.22     37.86  ...            358500.0         NEAR BAY\n",
              "2        -122.24     37.85  ...            352100.0         NEAR BAY\n",
              "3        -122.25     37.85  ...            341300.0         NEAR BAY\n",
              "4        -122.25     37.85  ...            342200.0         NEAR BAY\n",
              "...          ...       ...  ...                 ...              ...\n",
              "20635    -121.09     39.48  ...             78100.0           INLAND\n",
              "20636    -121.21     39.49  ...             77100.0           INLAND\n",
              "20637    -121.22     39.43  ...             92300.0           INLAND\n",
              "20638    -121.32     39.43  ...             84700.0           INLAND\n",
              "20639    -121.24     39.37  ...             89400.0           INLAND\n",
              "\n",
              "[20640 rows x 10 columns]"
            ]
          },
          "metadata": {
            "tags": []
          },
          "execution_count": 2
        }
      ]
    },
    {
      "cell_type": "code",
      "metadata": {
        "id": "nQOX2RU6Q2Lv",
        "colab_type": "code",
        "colab": {}
      },
      "source": [
        "#Paso 2: Particion entrenamiento y validacion\n",
        "# Tamaño Xtrain 70%, Tamaño Xtest 30%\n",
        "from funciones_housing import dummy_transformer\n",
        "from sklearn.model_selection import train_test_split\n",
        "from sklearn.impute import SimpleImputer \n",
        "from sklearn.preprocessing import StandardScaler\n",
        "import tensorflow as tf\n",
        "from tensorflow import keras\n",
        "Xtrain, Xtest = train_test_split(Xdata,test_size=0.3)\n",
        "col_sal = \"median_house_value\"\n",
        "ytrain = Xtrain[col_sal]\n",
        "ytest = Xtest[col_sal]\n",
        "Xtrain.drop(columns=col_sal,inplace=True)\n",
        "Xtest.drop(columns=col_sal,inplace=True)\n",
        "\n",
        "Xtrain, Xvalid = train_test_split(Xtrain,test_size=0.3)\n",
        "ytrain, yvalid = train_test_split(ytrain,test_size=0.3)\n",
        "\n",
        "ytrain = SimpleImputer(strategy=\"most_frequent\").fit_transform(pd.DataFrame(ytrain))\n",
        "ytest = SimpleImputer(strategy=\"most_frequent\").fit_transform(pd.DataFrame(ytest))\n",
        "yvalid = SimpleImputer(strategy=\"most_frequent\").fit_transform(pd.DataFrame(yvalid))\n",
        "\n",
        "Xtrain = dummy_transformer().fit_transform(Xtrain)\n",
        "Xtest = dummy_transformer().fit_transform(Xtest)\n",
        "Xvalid = dummy_transformer().fit_transform(Xvalid)"
      ],
      "execution_count": 0,
      "outputs": []
    },
    {
      "cell_type": "code",
      "metadata": {
        "id": "yd2PkoF6Q2L4",
        "colab_type": "code",
        "colab": {}
      },
      "source": [
        "Xtrain = np.array(Xtrain)\n",
        "Xtest = np.array(Xtest)\n",
        "Xvalid = np.array(Xvalid)\n",
        "\n",
        "ytrain = np.array(ytrain)\n",
        "ytest = np.array(ytest)\n",
        "yvalid = np.array(yvalid)\n",
        "\n",
        "scaler = StandardScaler()\n",
        "Xtrain = scaler.fit_transform(Xtrain)\n",
        "Xtest = scaler.transform(Xtest)\n",
        "Xvalid = scaler.transform(Xvalid)\n",
        "\n"
      ],
      "execution_count": 0,
      "outputs": []
    },
    {
      "cell_type": "code",
      "metadata": {
        "id": "iRgAI3P3Q2MA",
        "colab_type": "code",
        "colab": {}
      },
      "source": [
        "keras.backend.clear_session()\n",
        "np.random.seed(42)\n",
        "tf.random.set_seed(42)\n",
        "\n",
        "model = keras.models.Sequential([\n",
        "    keras.layers.Dense(15, activation=\"tanh\", input_shape=[9,]),\n",
        "    keras.layers.Dense(2, activation=\"tanh\"),\n",
        "    keras.layers.Dense(1)\n",
        "])"
      ],
      "execution_count": 0,
      "outputs": []
    },
    {
      "cell_type": "code",
      "metadata": {
        "id": "V-csZJKEQ2MH",
        "colab_type": "code",
        "outputId": "b4cac204-e83c-48c4-f424-1b0a4d211f5a",
        "colab": {
          "base_uri": "https://localhost:8080/",
          "height": 67
        }
      },
      "source": [
        "model.layers"
      ],
      "execution_count": 0,
      "outputs": [
        {
          "output_type": "execute_result",
          "data": {
            "text/plain": [
              "[<tensorflow.python.keras.layers.core.Dense at 0x7f5e1f955c88>,\n",
              " <tensorflow.python.keras.layers.core.Dense at 0x7f5e1f948390>,\n",
              " <tensorflow.python.keras.layers.core.Dense at 0x7f5e20956320>]"
            ]
          },
          "metadata": {
            "tags": []
          },
          "execution_count": 6
        }
      ]
    },
    {
      "cell_type": "code",
      "metadata": {
        "id": "155YG2GAQ2MQ",
        "colab_type": "code",
        "outputId": "535b9151-0739-47f4-b25c-403a7e6304f2",
        "colab": {
          "base_uri": "https://localhost:8080/",
          "height": 252
        }
      },
      "source": [
        "model.summary()"
      ],
      "execution_count": 0,
      "outputs": [
        {
          "output_type": "stream",
          "text": [
            "Model: \"sequential\"\n",
            "_________________________________________________________________\n",
            "Layer (type)                 Output Shape              Param #   \n",
            "=================================================================\n",
            "dense (Dense)                (None, 15)                150       \n",
            "_________________________________________________________________\n",
            "dense_1 (Dense)              (None, 2)                 32        \n",
            "_________________________________________________________________\n",
            "dense_2 (Dense)              (None, 1)                 3         \n",
            "=================================================================\n",
            "Total params: 185\n",
            "Trainable params: 185\n",
            "Non-trainable params: 0\n",
            "_________________________________________________________________\n"
          ],
          "name": "stdout"
        }
      ]
    },
    {
      "cell_type": "code",
      "metadata": {
        "id": "Rpo6j3TrQ2MY",
        "colab_type": "code",
        "colab": {}
      },
      "source": [
        "#compilar modelo\n",
        "model.compile(loss=keras.losses.mse,\n",
        "              optimizer=\"sgd\",\n",
        "              metrics=[keras.losses.mae])"
      ],
      "execution_count": 0,
      "outputs": []
    },
    {
      "cell_type": "code",
      "metadata": {
        "id": "hNYobAqvQ2Mg",
        "colab_type": "code",
        "outputId": "60fbdfda-bdce-4549-f749-03fd22baabc7",
        "colab": {
          "base_uri": "https://localhost:8080/",
          "height": 1000
        }
      },
      "source": [
        "#Entrenamiento\n",
        "history = model.fit(Xtrain, ytrain, epochs=30, batch_size=30,\n",
        "                    validation_data=(Xvalid, yvalid))"
      ],
      "execution_count": 0,
      "outputs": [
        {
          "output_type": "stream",
          "text": [
            "Train on 10113 samples, validate on 4335 samples\n",
            "Epoch 1/30\n",
            "10113/10113 [==============================] - 1s 97us/sample - loss: 14664339117.2993 - mean_absolute_error: 94078.4453 - val_loss: 13402977660.8997 - val_mean_absolute_error: 90107.6406\n",
            "Epoch 2/30\n",
            "10113/10113 [==============================] - 1s 65us/sample - loss: 13445988194.9522 - mean_absolute_error: 91781.3594 - val_loss: 13437975452.7889 - val_mean_absolute_error: 92410.6406\n",
            "Epoch 3/30\n",
            "10113/10113 [==============================] - 1s 65us/sample - loss: 13454566095.6250 - mean_absolute_error: 91938.5312 - val_loss: 13385661996.2907 - val_mean_absolute_error: 90776.4375\n",
            "Epoch 4/30\n",
            "10113/10113 [==============================] - 1s 65us/sample - loss: 13452502359.8647 - mean_absolute_error: 91829.1719 - val_loss: 13410949720.5813 - val_mean_absolute_error: 91917.2734\n",
            "Epoch 5/30\n",
            "10113/10113 [==============================] - 1s 63us/sample - loss: 13443420663.0389 - mean_absolute_error: 91871.2266 - val_loss: 13405542355.7093 - val_mean_absolute_error: 91793.8750\n",
            "Epoch 6/30\n",
            "10113/10113 [==============================] - 1s 64us/sample - loss: 13456471578.5796 - mean_absolute_error: 91898.5547 - val_loss: 13412847068.5675 - val_mean_absolute_error: 91957.6953\n",
            "Epoch 7/30\n",
            "10113/10113 [==============================] - 1s 63us/sample - loss: 13447931992.3963 - mean_absolute_error: 91907.6250 - val_loss: 13385366485.4810 - val_mean_absolute_error: 90883.4844\n",
            "Epoch 8/30\n",
            "10113/10113 [==============================] - 1s 65us/sample - loss: 13440789127.3284 - mean_absolute_error: 91792.2344 - val_loss: 13387499229.4533 - val_mean_absolute_error: 91165.5156\n",
            "Epoch 9/30\n",
            "10113/10113 [==============================] - 1s 63us/sample - loss: 13456253327.4542 - mean_absolute_error: 91881.7891 - val_loss: 13445373275.2388 - val_mean_absolute_error: 92526.1562\n",
            "Epoch 10/30\n",
            "10113/10113 [==============================] - 1s 63us/sample - loss: 13452805212.9528 - mean_absolute_error: 91928.1953 - val_loss: 13404510712.9135 - val_mean_absolute_error: 90075.8438\n",
            "Epoch 11/30\n",
            "10113/10113 [==============================] - 1s 66us/sample - loss: 13446379196.6396 - mean_absolute_error: 91746.2891 - val_loss: 13401807987.1557 - val_mean_absolute_error: 91699.6094\n",
            "Epoch 12/30\n",
            "10113/10113 [==============================] - 1s 64us/sample - loss: 13447861925.9330 - mean_absolute_error: 91909.4844 - val_loss: 13385410143.6678 - val_mean_absolute_error: 90919.5703\n",
            "Epoch 13/30\n",
            "10113/10113 [==============================] - 1s 65us/sample - loss: 13442868134.6307 - mean_absolute_error: 91800.3047 - val_loss: 13394082259.7093 - val_mean_absolute_error: 91468.1328\n",
            "Epoch 14/30\n",
            "10113/10113 [==============================] - 1s 64us/sample - loss: 13452189171.3937 - mean_absolute_error: 91927.4453 - val_loss: 13387775780.3183 - val_mean_absolute_error: 91183.8828\n",
            "Epoch 15/30\n",
            "10113/10113 [==============================] - 1s 64us/sample - loss: 13453085308.6965 - mean_absolute_error: 91886.0000 - val_loss: 13385449755.4602 - val_mean_absolute_error: 90934.6797\n",
            "Epoch 16/30\n",
            "10113/10113 [==============================] - 1s 64us/sample - loss: 13448427766.2035 - mean_absolute_error: 91838.4844 - val_loss: 13389219946.2976 - val_mean_absolute_error: 90512.2578\n",
            "Epoch 17/30\n",
            "10113/10113 [==============================] - 1s 63us/sample - loss: 13454888722.1501 - mean_absolute_error: 91897.8984 - val_loss: 13414278794.1869 - val_mean_absolute_error: 91987.2578\n",
            "Epoch 18/30\n",
            "10113/10113 [==============================] - 1s 61us/sample - loss: 13453832001.6897 - mean_absolute_error: 91913.4453 - val_loss: 13393708811.5156 - val_mean_absolute_error: 91454.9531\n",
            "Epoch 19/30\n",
            "10113/10113 [==============================] - 1s 64us/sample - loss: 13446226399.9525 - mean_absolute_error: 91842.4844 - val_loss: 13385984490.7405 - val_mean_absolute_error: 90730.9609\n",
            "Epoch 20/30\n",
            "10113/10113 [==============================] - 1s 64us/sample - loss: 13447334215.7651 - mean_absolute_error: 91806.3672 - val_loss: 13404831814.8651 - val_mean_absolute_error: 90069.3438\n",
            "Epoch 21/30\n",
            "10113/10113 [==============================] - 1s 65us/sample - loss: 13450450485.3112 - mean_absolute_error: 91797.6016 - val_loss: 13402534958.0623 - val_mean_absolute_error: 90117.0938\n",
            "Epoch 22/30\n",
            "10113/10113 [==============================] - 1s 66us/sample - loss: 13450759243.3343 - mean_absolute_error: 91842.9531 - val_loss: 13388518933.2595 - val_mean_absolute_error: 91228.6953\n",
            "Epoch 23/30\n",
            "10113/10113 [==============================] - 1s 63us/sample - loss: 13451429229.4322 - mean_absolute_error: 91830.0547 - val_loss: 13649376426.0761 - val_mean_absolute_error: 94769.5000\n",
            "Epoch 24/30\n",
            "10113/10113 [==============================] - 1s 66us/sample - loss: 13452419757.6031 - mean_absolute_error: 91972.4844 - val_loss: 13399886970.2422 - val_mean_absolute_error: 91647.5000\n",
            "Epoch 25/30\n",
            "10113/10113 [==============================] - 1s 64us/sample - loss: 13453310238.9083 - mean_absolute_error: 91878.5938 - val_loss: 13385928137.0796 - val_mean_absolute_error: 91024.3047\n",
            "Epoch 26/30\n",
            "10113/10113 [==============================] - 1s 65us/sample - loss: 13454939318.2605 - mean_absolute_error: 91857.8750 - val_loss: 13410555367.1972 - val_mean_absolute_error: 91908.6953\n",
            "Epoch 27/30\n",
            "10113/10113 [==============================] - 1s 68us/sample - loss: 13443370293.2352 - mean_absolute_error: 91898.4141 - val_loss: 13385375930.0208 - val_mean_absolute_error: 90898.5312\n",
            "Epoch 28/30\n",
            "10113/10113 [==============================] - 1s 66us/sample - loss: 13448298726.5595 - mean_absolute_error: 91890.3750 - val_loss: 13420019065.3564 - val_mean_absolute_error: 92099.3828\n",
            "Epoch 29/30\n",
            "10113/10113 [==============================] - 1s 63us/sample - loss: 13447916114.0931 - mean_absolute_error: 91890.3125 - val_loss: 13401932172.8443 - val_mean_absolute_error: 91702.8672\n",
            "Epoch 30/30\n",
            "10113/10113 [==============================] - 1s 66us/sample - loss: 13446340841.5972 - mean_absolute_error: 91914.0234 - val_loss: 13431798812.3460 - val_mean_absolute_error: 89654.8672\n"
          ],
          "name": "stdout"
        }
      ]
    },
    {
      "cell_type": "code",
      "metadata": {
        "id": "BlLf0I-hQ2Mn",
        "colab_type": "code",
        "outputId": "72c5d32c-258c-4ac5-8447-d18db9e66e47",
        "colab": {
          "base_uri": "https://localhost:8080/",
          "height": 185
        }
      },
      "source": [
        "history.params"
      ],
      "execution_count": 0,
      "outputs": [
        {
          "output_type": "execute_result",
          "data": {
            "text/plain": [
              "{'batch_size': 30,\n",
              " 'do_validation': True,\n",
              " 'epochs': 30,\n",
              " 'metrics': ['loss',\n",
              "  'mean_absolute_error',\n",
              "  'val_loss',\n",
              "  'val_mean_absolute_error'],\n",
              " 'samples': 10113,\n",
              " 'steps': 338,\n",
              " 'verbose': 0}"
            ]
          },
          "metadata": {
            "tags": []
          },
          "execution_count": 10
        }
      ]
    },
    {
      "cell_type": "code",
      "metadata": {
        "id": "BF8jPUQTEXtm",
        "colab_type": "code",
        "outputId": "e8fb7094-6862-45e1-d653-5f327d1bc6a5",
        "colab": {
          "base_uri": "https://localhost:8080/",
          "height": 54
        }
      },
      "source": [
        "print(history.epoch)"
      ],
      "execution_count": 0,
      "outputs": [
        {
          "output_type": "stream",
          "text": [
            "[0, 1, 2, 3, 4, 5, 6, 7, 8, 9, 10, 11, 12, 13, 14, 15, 16, 17, 18, 19, 20, 21, 22, 23, 24, 25, 26, 27, 28, 29]\n"
          ],
          "name": "stdout"
        }
      ]
    },
    {
      "cell_type": "code",
      "metadata": {
        "id": "fiXFOi0jEcBl",
        "colab_type": "code",
        "outputId": "67e838bc-f5a1-482a-a70b-576ce49eb897",
        "colab": {
          "base_uri": "https://localhost:8080/",
          "height": 34
        }
      },
      "source": [
        "history.history.keys()"
      ],
      "execution_count": 0,
      "outputs": [
        {
          "output_type": "execute_result",
          "data": {
            "text/plain": [
              "dict_keys(['loss', 'mean_absolute_error', 'val_loss', 'val_mean_absolute_error'])"
            ]
          },
          "metadata": {
            "tags": []
          },
          "execution_count": 12
        }
      ]
    },
    {
      "cell_type": "code",
      "metadata": {
        "id": "NyqxflzqEiL3",
        "colab_type": "code",
        "outputId": "6d04454c-34f4-4b4c-9b66-87f3509e2f42",
        "colab": {
          "base_uri": "https://localhost:8080/",
          "height": 331
        }
      },
      "source": [
        "pd.DataFrame(history.history).plot(figsize=(8, 5))\n",
        "plt.grid(True)\n",
        "#save_fig(\"keras_learning_curves_plot\")\n",
        "plt.show()"
      ],
      "execution_count": 0,
      "outputs": [
        {
          "output_type": "display_data",
          "data": {
            "image/png": "[encoded data removed]",
            "text/plain": [
              "<Figure size 576x360 with 1 Axes>"
            ]
          },
          "metadata": {
            "tags": []
          }
        }
      ]
    },
    {
      "cell_type": "code",
      "metadata": {
        "id": "_z2IU6NvEkB_",
        "colab_type": "code",
        "outputId": "45ae6c1a-0c7e-4390-81bf-e15e2bb2548c",
        "colab": {
          "base_uri": "https://localhost:8080/",
          "height": 70
        }
      },
      "source": [
        "model.evaluate(Xtest, ytest)"
      ],
      "execution_count": 0,
      "outputs": [
        {
          "output_type": "stream",
          "text": [
            "6192/6192 [==============================] - 0s 34us/sample - loss: 13136333929.8398 - mean_absolute_error: 89034.8906\n"
          ],
          "name": "stdout"
        },
        {
          "output_type": "execute_result",
          "data": {
            "text/plain": [
              "[13136333929.839794, 89034.89]"
            ]
          },
          "metadata": {
            "tags": []
          },
          "execution_count": 14
        }
      ]
    },
    {
      "cell_type": "code",
      "metadata": {
        "id": "wlfytBugEtEy",
        "colab_type": "code",
        "outputId": "15849ee4-1832-435e-bf8f-8fc77937fcdd",
        "colab": {
          "base_uri": "https://localhost:8080/",
          "height": 67
        }
      },
      "source": [
        "X_new = Xtest[:3]\n",
        "y_proba = model.predict(X_new)\n",
        "y_proba.round(2)"
      ],
      "execution_count": 0,
      "outputs": [
        {
          "output_type": "execute_result",
          "data": {
            "text/plain": [
              "array([[199105.42],\n",
              "       [199105.42],\n",
              "       [199105.42]], dtype=float32)"
            ]
          },
          "metadata": {
            "tags": []
          },
          "execution_count": 15
        }
      ]
    },
    {
      "cell_type": "code",
      "metadata": {
        "id": "IdBAnMs53nfk",
        "colab_type": "code",
        "outputId": "a1895bd4-aeda-4889-b272-53e8ddb60bf6",
        "colab": {
          "base_uri": "https://localhost:8080/",
          "height": 67
        }
      },
      "source": [
        "y_pred = model.predict_classes(X_new)\n",
        "y_pred"
      ],
      "execution_count": 0,
      "outputs": [
        {
          "output_type": "execute_result",
          "data": {
            "text/plain": [
              "array([[1],\n",
              "       [1],\n",
              "       [1]], dtype=int32)"
            ]
          },
          "metadata": {
            "tags": []
          },
          "execution_count": 16
        }
      ]
    },
    {
      "cell_type": "code",
      "metadata": {
        "id": "6PKi2ntiPHDi",
        "colab_type": "code",
        "colab": {}
      },
      "source": [
        ""
      ],
      "execution_count": 0,
      "outputs": []
    }
  ]
}