{
  "nbformat": 4,
  "nbformat_minor": 0,
  "metadata": {
    "kernelspec": {
      "display_name": "Python 3",
      "language": "python",
      "name": "python3"
    },
    "language_info": {
      "codemirror_mode": {
        "name": "ipython",
        "version": 3
      },
      "file_extension": ".py",
      "mimetype": "text/x-python",
      "name": "python",
      "nbconvert_exporter": "python",
      "pygments_lexer": "ipython3",
      "version": "3.7.4"
    },
    "colab": {
      "name": "Perceptrón multicapa.ipynb",
      "provenance": [],
      "include_colab_link": true
    }
  },
  "cells": [
    {
      "cell_type": "markdown",
      "metadata": {
        "id": "view-in-github",
        "colab_type": "text"
      },
      "source": [
        "<a href=\"https://colab.research.google.com/github/nicolas-pavon/Analitica_colab/blob/master/Entrega%203/Perceptr%C3%B3n_multicapa(Xor).ipynb\" target=\"_parent\"><img src=\"https://colab.research.google.com/assets/colab-badge.svg\" alt=\"Open In Colab\"/></a>"
      ]
    },
    {
      "cell_type": "markdown",
      "metadata": {
        "id": "7PQRagfxAG_4",
        "colab_type": "text"
      },
      "source": [
        "# Función"
      ]
    },
    {
      "cell_type": "code",
      "metadata": {
        "id": "gY_klklEAG_9",
        "colab_type": "code",
        "colab": {}
      },
      "source": [
        "# Definimos la función de step\n",
        "def step(x):\n",
        "    if (x>0):\n",
        "        return 1\n",
        "    else:\n",
        "        return 0"
      ],
      "execution_count": 0,
      "outputs": []
    },
    {
      "cell_type": "code",
      "metadata": {
        "id": "LtCaD3v_AHAj",
        "colab_type": "code",
        "colab": {}
      },
      "source": [
        "# Definimos las funciones de las TLU con los pesos y los bias\n",
        "def TLUS(X_1,X_2):\n",
        "    W1_1_1 = 1\n",
        "    W1_1_2 = 1\n",
        "    W1_2_1 = 1\n",
        "    W1_2_2 = 1\n",
        "    W2_1 = -1\n",
        "    W2_2 = 1\n",
        "    b1_1 = -1.5\n",
        "    b1_2 = -0.5\n",
        "    b2_1 = -0.5\n",
        "    h_1 = step((X_1*W1_1_1) + (X_2*W1_1_2) + b1_1 )\n",
        "    h_2 = step((X_1*W1_2_1) + (X_2*W1_2_2) + b1_2 )\n",
        "    y = step((h_1*W2_1) + (h_2*W2_2) + b2_1 )\n",
        "    return y"
      ],
      "execution_count": 0,
      "outputs": []
    },
    {
      "cell_type": "markdown",
      "metadata": {
        "id": "J_3CeriAAHA2",
        "colab_type": "text"
      },
      "source": [
        "# Para $X_{1} = 0$, $X_{2} = 0$"
      ]
    },
    {
      "cell_type": "code",
      "metadata": {
        "id": "t1zospoVAHA4",
        "colab_type": "code",
        "colab": {
          "base_uri": "https://localhost:8080/",
          "height": 34
        },
        "outputId": "945ae9e8-49a2-45f2-b6e7-9d849fa4b8d9"
      },
      "source": [
        "y = TLUS(0,0)\n",
        "print(y)"
      ],
      "execution_count": 4,
      "outputs": [
        {
          "output_type": "stream",
          "text": [
            "0\n"
          ],
          "name": "stdout"
        }
      ]
    },
    {
      "cell_type": "markdown",
      "metadata": {
        "id": "SMmDycZyAHBL",
        "colab_type": "text"
      },
      "source": [
        "# Para $X_{1} = 0$, $X_{2} = 1$"
      ]
    },
    {
      "cell_type": "code",
      "metadata": {
        "id": "Wo2VvqHYAHBQ",
        "colab_type": "code",
        "colab": {
          "base_uri": "https://localhost:8080/",
          "height": 34
        },
        "outputId": "4075907e-28ec-479d-866d-2d6895a7def5"
      },
      "source": [
        "y = TLUS(0,1)\n",
        "print(y)"
      ],
      "execution_count": 5,
      "outputs": [
        {
          "output_type": "stream",
          "text": [
            "1\n"
          ],
          "name": "stdout"
        }
      ]
    },
    {
      "cell_type": "markdown",
      "metadata": {
        "id": "weUtN-mZAHBf",
        "colab_type": "text"
      },
      "source": [
        "# Para $X_{1} = 1$, $X_{2} = 0$"
      ]
    },
    {
      "cell_type": "code",
      "metadata": {
        "id": "oWvh854rAHBh",
        "colab_type": "code",
        "colab": {
          "base_uri": "https://localhost:8080/",
          "height": 34
        },
        "outputId": "db6567c1-0586-469a-dddb-f0d5c4d6a517"
      },
      "source": [
        "y = TLUS(1,0)\n",
        "print(y)"
      ],
      "execution_count": 3,
      "outputs": [
        {
          "output_type": "stream",
          "text": [
            "1\n"
          ],
          "name": "stdout"
        }
      ]
    },
    {
      "cell_type": "markdown",
      "metadata": {
        "id": "rqz9THkfAHB4",
        "colab_type": "text"
      },
      "source": [
        "# Para $X_{1} = 1$, $X_{2} = 1$"
      ]
    },
    {
      "cell_type": "code",
      "metadata": {
        "id": "CubGwjtNAHB8",
        "colab_type": "code",
        "colab": {
          "base_uri": "https://localhost:8080/",
          "height": 34
        },
        "outputId": "6ba5c599-334d-492d-a359-1577c5e063f2"
      },
      "source": [
        "y = TLUS(1,1)\n",
        "print(y)"
      ],
      "execution_count": 6,
      "outputs": [
        {
          "output_type": "stream",
          "text": [
            "0\n"
          ],
          "name": "stdout"
        }
      ]
    },
    {
      "cell_type": "code",
      "metadata": {
        "id": "H_sbQoOYAHCF",
        "colab_type": "code",
        "colab": {}
      },
      "source": [
        ""
      ],
      "execution_count": 0,
      "outputs": []
    }
  ]
}